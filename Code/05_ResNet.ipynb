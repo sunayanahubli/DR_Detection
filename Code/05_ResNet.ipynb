{
 "cells": [
  {
   "cell_type": "code",
   "execution_count": 8,
   "metadata": {},
   "outputs": [],
   "source": [
    "import numpy as np\n",
    "import pandas as pd\n",
    "import seaborn as sns\n",
    "import matplotlib.pyplot as plt\n",
    "from pathlib import Path\n",
    "import tensorflow as tf\n",
    "import tensorflow.keras as keras\n",
    "from tensorflow.keras import layers\n",
    "from keras.preprocessing import image\n",
    "from skimage.io import imread\n",
    "from sklearn.model_selection import train_test_split\n",
    "from sklearn.metrics import confusion_matrix\n",
    "from tensorflow.keras.utils import to_categorical\n",
    "from tensorflow.keras.models import Sequential\n",
    "from tensorflow.keras.layers import Dense, Activation\n",
    "from tensorflow.keras.optimizers import Adam\n",
    "from tensorflow.keras import regularizers\n",
    "from tensorflow.keras.layers import Conv2D\n",
    "from tensorflow.keras.layers import MaxPooling2D\n",
    "from tensorflow.keras.layers import BatchNormalization\n",
    "from tensorflow.keras.layers import Flatten\n",
    "from tensorflow.keras.optimizers import SGD\n",
    "from sklearn.metrics import classification_report,confusion_matrix\n",
    "import cv2 as cv"
   ]
  },
  {
   "cell_type": "code",
   "execution_count": 12,
   "metadata": {},
   "outputs": [
    {
     "name": "stdout",
     "output_type": "stream",
     "text": [
      "All modules have been imported\n"
     ]
    }
   ],
   "source": [
    "import numpy as np\n",
    "import matplotlib.pyplot as plt\n",
    "import tensorflow as tf\n",
    "import tensorflow as tf\n",
    "from tensorflow.keras.applications import *\n",
    "from tensorflow.keras.optimizers import *\n",
    "from tensorflow.keras.losses import *\n",
    "from tensorflow.keras.layers import *\n",
    "from tensorflow.keras.models import *\n",
    "from tensorflow.keras.callbacks import *\n",
    "from tensorflow.keras.preprocessing.image import *\n",
    "from tensorflow.keras.utils import *\n",
    "from sklearn.metrics import *\n",
    "from sklearn.model_selection import *\n",
    "import tensorflow.keras.backend as K\n",
    "import matplotlib.pyplot as plt\n",
    "import seaborn as sns\n",
    "from glob import glob\n",
    "from skimage.io import *\n",
    "%config Completer.use_jedi = False\n",
    "import warnings\n",
    "warnings.filterwarnings('ignore')\n",
    "print(\"All modules have been imported\")"
   ]
  },
  {
   "cell_type": "code",
   "execution_count": 10,
   "metadata": {},
   "outputs": [
    {
     "name": "stdout",
     "output_type": "stream",
     "text": [
      "count: 5798\n",
      "x_train: (4638, 224, 224, 1)\n",
      "x_test: (1160, 224, 224, 1)\n",
      "y_train: (4638, 2)\n",
      "y_test: (1160, 2)\n"
     ]
    }
   ],
   "source": [
    "def load_dataset(container_path):\n",
    "    image_dir = Path(container_path)\n",
    "    folders = [directory for directory in image_dir.iterdir() if directory.is_dir()]\n",
    "    categories = [fo.name for fo in folders]\n",
    "\n",
    "    descr = \"A image classification dataset\"\n",
    "    images = []\n",
    "    flat_data = []\n",
    "    target = []\n",
    "    count = 0\n",
    "    train_img = []\n",
    "    for i, direc in enumerate(folders):\n",
    "        for file in direc.iterdir():\n",
    "            count += 1\n",
    "            img = imread(file)\n",
    "            img = cv.cvtColor(img, cv.COLOR_BGR2GRAY)\n",
    "            img_pred = image.img_to_array(img)\n",
    "            img_pred = img_pred / 255\n",
    "            train_img.append(img_pred)\n",
    "    X = np.array(train_img)\n",
    "    print(\"count: \"+ str(count))\n",
    "    return X\n",
    "\n",
    "X = []\n",
    "X = load_dataset(r\"C:\\Users\\karth\\Sunayana\\Machine Learning\\Diabetic Retinopathy\\data\\KNN\")\n",
    "\n",
    "y0 = np.zeros(3670)\n",
    "y1 = np.ones(2128)\n",
    "y = []\n",
    "y = np.concatenate((y0,y1), axis=0)\n",
    "y = []\n",
    "y = np.concatenate((y0,y1), axis=0)\n",
    "x_train, x_test, y_train, y_test = train_test_split(X, y, random_state=42, test_size=0.2)\n",
    "y_train = to_categorical(y_train)\n",
    "y_test = to_categorical(y_test)\n",
    "# y_train = np.asarray(y_train).astype('float32').reshape((-1,1))\n",
    "# y_test = np.asarray(y_test).astype('float32').reshape((-1,1))\n",
    "print(\"x_train: \"+str(x_train.shape))\n",
    "print(\"x_test: \"+str(x_test.shape))\n",
    "print(\"y_train: \"+str(y_train.shape))\n",
    "print(\"y_test: \"+str(y_test.shape))"
   ]
  },
  {
   "cell_type": "markdown",
   "metadata": {},
   "source": [
    "# ResNet50 (7 Dense Layers)"
   ]
  },
  {
   "cell_type": "code",
   "execution_count": 16,
   "metadata": {
    "execution": {
     "iopub.execute_input": "2022-05-10T07:00:08.785021Z",
     "iopub.status.busy": "2022-05-10T07:00:08.784658Z",
     "iopub.status.idle": "2022-05-10T07:02:18.283135Z",
     "shell.execute_reply": "2022-05-10T07:02:18.282438Z",
     "shell.execute_reply.started": "2022-05-10T07:00:08.784984Z"
    }
   },
   "outputs": [
    {
     "name": "stdout",
     "output_type": "stream",
     "text": [
      "Epoch 1/5\n",
      "742/742 [==============================] - 199s 265ms/step - loss: 0.7334 - accuracy: 0.5784 - auc: 0.5839 - val_loss: 0.7278 - val_accuracy: 0.6228 - val_auc: 0.6227\n",
      "Epoch 2/5\n",
      "742/742 [==============================] - 204s 275ms/step - loss: 0.6742 - accuracy: 0.6146 - auc: 0.6322 - val_loss: 0.6627 - val_accuracy: 0.6228 - val_auc: 0.6381\n",
      "Epoch 3/5\n",
      "742/742 [==============================] - 297s 400ms/step - loss: 0.6654 - accuracy: 0.6229 - auc: 0.6336 - val_loss: 0.6625 - val_accuracy: 0.6228 - val_auc: 0.6340\n",
      "Epoch 4/5\n",
      "742/742 [==============================] - 312s 420ms/step - loss: 0.6606 - accuracy: 0.6318 - auc: 0.6387 - val_loss: 0.6647 - val_accuracy: 0.6228 - val_auc: 0.6203\n",
      "Epoch 5/5\n",
      "742/742 [==============================] - 317s 428ms/step - loss: 0.6604 - accuracy: 0.6321 - auc: 0.6320 - val_loss: 0.6612 - val_accuracy: 0.6228 - val_auc: 0.6366\n"
     ]
    }
   ],
   "source": [
    "model = Sequential()\n",
    "model.add(ResNet50(input_shape=(224,224,1),include_top=False,weights=None))\n",
    "for layer in model.layers:\n",
    "    layer.trainable = False\n",
    "model.add(Flatten())\n",
    "model.add(Dense(16,kernel_initializer='he_uniform'))\n",
    "model.add(BatchNormalization())\n",
    "model.add(Activation('relu'))\n",
    "model.add(Dropout(0.5))\n",
    "model.add(Dense(units= 2, activation='softmax'))\n",
    "\n",
    "c3=tf.keras.callbacks.ReduceLROnPlateau(\n",
    "    monitor=\"val_loss\",\n",
    "    factor=0.1,\n",
    "    patience=2,\n",
    "    mode=\"auto\",\n",
    "    min_delta=0.001,\n",
    "    cooldown=0,\n",
    "    min_lr=0.01\n",
    ")\n",
    "model.compile(optimizer='adam',loss='categorical_crossentropy', metrics=['accuracy','AUC'])\n",
    "history=model.fit(x_train,y_train,epochs=5,batch_size=5,validation_split=0.2)\n",
    "\n"
   ]
  },
  {
   "cell_type": "code",
   "execution_count": 20,
   "metadata": {},
   "outputs": [
    {
     "name": "stdout",
     "output_type": "stream",
     "text": [
      "Model: \"sequential_4\"\n",
      "_________________________________________________________________\n",
      " Layer (type)                Output Shape              Param #   \n",
      "=================================================================\n",
      " resnet50 (Functional)       (None, 7, 7, 2048)        23581440  \n",
      "                                                                 \n",
      " flatten_3 (Flatten)         (None, 100352)            0         \n",
      "                                                                 \n",
      " dense_6 (Dense)             (None, 16)                1605648   \n",
      "                                                                 \n",
      " batch_normalization_3 (Batc  (None, 16)               64        \n",
      " hNormalization)                                                 \n",
      "                                                                 \n",
      " activation_3 (Activation)   (None, 16)                0         \n",
      "                                                                 \n",
      " dropout_3 (Dropout)         (None, 16)                0         \n",
      "                                                                 \n",
      " dense_7 (Dense)             (None, 2)                 34        \n",
      "                                                                 \n",
      "=================================================================\n",
      "Total params: 25,187,186\n",
      "Trainable params: 1,605,714\n",
      "Non-trainable params: 23,581,472\n",
      "_________________________________________________________________\n"
     ]
    }
   ],
   "source": [
    "model.summary()"
   ]
  },
  {
   "cell_type": "code",
   "execution_count": 75,
   "metadata": {
    "execution": {
     "iopub.execute_input": "2022-05-10T07:02:19.965837Z",
     "iopub.status.busy": "2022-05-10T07:02:19.965313Z",
     "iopub.status.idle": "2022-05-10T07:02:21.448990Z",
     "shell.execute_reply": "2022-05-10T07:02:21.448125Z",
     "shell.execute_reply.started": "2022-05-10T07:02:19.965796Z"
    }
   },
   "outputs": [
    {
     "name": "stdout",
     "output_type": "stream",
     "text": [
      "Performance Report:\n",
      "Accuracy score is : 0.74\n",
      "Precision score is : 0.5476\n",
      "Recall score is : 0.74\n",
      "F1 Score is : 0.6294252873563217\n",
      "Cohen Kappa Score: 0.0\n"
     ]
    }
   ],
   "source": [
    "print(\"Performance Report:\")\n",
    "y_pred6=np.argmax(model.predict(x_test),axis=-1)\n",
    "Y_test=to_categorical(y_test,5)\n",
    "y_pred_prb6=model.predict(x_test)\n",
    "#target=['0','1']\n",
    "from sklearn import metrics\n",
    "print('Accuracy score is :', metrics.accuracy_score(y_test, y_pred6))\n",
    "print('Precision score is :', metrics.precision_score(y_test, y_pred6, average='weighted'))\n",
    "print('Recall score is :',metrics.recall_score(y_test,y_pred6, average='weighted'))\n",
    "print('F1 Score is :', metrics.f1_score(y_test, y_pred6,average='weighted'))\n",
    "print('Cohen Kappa Score:', metrics.cohen_kappa_score(y_test, y_pred6))"
   ]
  },
  {
   "cell_type": "code",
   "execution_count": null,
   "metadata": {},
   "outputs": [],
   "source": []
  }
 ],
 "metadata": {
  "kernelspec": {
   "display_name": "Python 3",
   "language": "python",
   "name": "python3"
  },
  "language_info": {
   "codemirror_mode": {
    "name": "ipython",
    "version": 3
   },
   "file_extension": ".py",
   "mimetype": "text/x-python",
   "name": "python",
   "nbconvert_exporter": "python",
   "pygments_lexer": "ipython3",
   "version": "3.8.5"
  }
 },
 "nbformat": 4,
 "nbformat_minor": 4
}
